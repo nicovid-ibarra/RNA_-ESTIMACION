{
 "cells": [
  {
   "cell_type": "markdown",
   "metadata": {},
   "source": [
    "# Caso Práctico: Neurona de McCulloch y Pitts"
   ]
  },
  {
   "cell_type": "markdown",
   "metadata": {},
   "source": [
    "## 1. Implementación de la MPNeuron"
   ]
  },
  {
   "cell_type": "code",
   "execution_count": 1,
   "metadata": {},
   "outputs": [],
   "source": [
    "#Se importan las linrerias necesarias\n",
    "import numpy as np\n",
    "import pandas as pd\n",
    "from sklearn.metrics import accuracy_score\n",
    "\n",
    "class MPNeuron:\n",
    "    \n",
    "    def __init__(self): # Inicializa el umbral de activación como None (aún no se ha definido)\n",
    "        self.threshold = None\n",
    "        \n",
    "    def model(self, x): # Esta es la función que aplica el perceptrón, sumando los inputs y comparando con el umbral\n",
    "        z = sum(x)  # Calcula la suma de los valores de entrada\n",
    "        return (z >= self.threshold)  # Si la suma es mayor o igual al umbral, devuelve True, sino False\n",
    "    \n",
    "    def predict(self, X): # Predice la salida para un conjunto de entradas\n",
    "        Y = []\n",
    "        for x in X: # Para cada conjunto de entradas, se aplica el modelo y se guarda el resultado\n",
    "            result = self.model(x)\n",
    "            Y.append(result)  # Agrega la predicción al conjunto de resultados\n",
    "        return np.array(Y)  # Devuelve las predicciones en formato de arreglo de NumPy\n",
    "    \n",
    "    def fit(self, X, Y): # Ajusta el umbral del perceptrón para maximizar la precisión\n",
    "        accuracy = {}  # Diccionario para almacenar la precisión para cada valor de umbral\n",
    "        for th in range(X.shape[1] + 1):  # Recorre posibles valores de umbral de 0 a número de características\n",
    "            self.threshold = th  # Establece el umbral en el valor actual\n",
    "            Y_pred = self.predict(X)  # Predice las salidas para los datos de entrada X\n",
    "            accuracy[th] = accuracy_score(Y_pred, Y)  # Calcula la precisión y la guarda\n",
    "        # La función fit no retorna nada, pero tiene la información de la precisión por umbral en el diccionario 'accuracy'\n"
   ]
  },
  {
   "cell_type": "code",
   "execution_count": 2,
   "metadata": {},
   "outputs": [
    {
     "data": {
      "text/plain": [
       "2"
      ]
     },
     "execution_count": 2,
     "metadata": {},
     "output_type": "execute_result"
    }
   ],
   "source": [
    "mp_neuron = MPNeuron()  # Crea un objeto de la clase MPNeuron, que representa el perceptrón\n",
    "\n",
    "# Creamos un DataFrame con las entradas de la neurona (conjunto de datos de entrenamiento)\n",
    "df_int = pd.DataFrame({\"x1\": [0, 0, 1, 1], \"x2\": [0, 1, 0, 1]})  \n",
    "# Creamos un DataFrame con las salidas deseadas para las entradas anteriores\n",
    "df_out = pd.DataFrame({\"salida\": [0, 1, 1, 1]}) \n",
    "\n",
    "df1 = df_int.to_numpy()  # Convierte el DataFrame de entradas (df_int) en un arreglo de NumPy\n",
    "df2 = df_out.to_numpy()  # Convierte el DataFrame de salidas (df_out) en un arreglo de NumPy\n",
    "\n",
    "# Ajustamos el modelo utilizando el método 'fit' y los datos de entrada (df1) y salida (df2)\n",
    "mp_neuron.fit(df1, df2)\n",
    "\n",
    "# Mostramos el umbral que la neurona ha encontrado para maximizar la precisión\n",
    "mp_neuron.threshold  \n"
   ]
  },
  {
   "cell_type": "code",
   "execution_count": null,
   "metadata": {},
   "outputs": [],
   "source": []
  }
 ],
 "metadata": {
  "kernelspec": {
   "display_name": "Python 3",
   "language": "python",
   "name": "python3"
  },
  "language_info": {
   "codemirror_mode": {
    "name": "ipython",
    "version": 3
   },
   "file_extension": ".py",
   "mimetype": "text/x-python",
   "name": "python",
   "nbconvert_exporter": "python",
   "pygments_lexer": "ipython3",
   "version": "3.10.11"
  }
 },
 "nbformat": 4,
 "nbformat_minor": 4
}
